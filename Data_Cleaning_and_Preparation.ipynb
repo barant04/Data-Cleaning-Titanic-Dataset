{
  "nbformat": 4,
  "nbformat_minor": 0,
  "metadata": {
    "colab": {
      "provenance": [],
      "include_colab_link": true
    },
    "kernelspec": {
      "name": "python3",
      "display_name": "Python 3"
    },
    "language_info": {
      "name": "python"
    }
  },
  "cells": [
    {
      "cell_type": "markdown",
      "metadata": {
        "id": "view-in-github",
        "colab_type": "text"
      },
      "source": [
        "<a href=\"https://colab.research.google.com/github/barant04/Data-Cleaning-Titanic-Dataset/blob/main/Data_Cleaning_and_Preparation.ipynb\" target=\"_parent\"><img src=\"https://colab.research.google.com/assets/colab-badge.svg\" alt=\"Open In Colab\"/></a>"
      ]
    },
    {
      "cell_type": "markdown",
      "source": [
        "**Please** use the file **Titanic.tsv**. You can add the Titanic.tsv file to the files folder and run it."
      ],
      "metadata": {
        "id": "UrSq7mjZnCTS"
      }
    },
    {
      "cell_type": "code",
      "execution_count": null,
      "metadata": {
        "id": "dR9NCFBJsXOv"
      },
      "outputs": [],
      "source": [
        "import pandas as pd # for data processing\n",
        "import numpy as np # for large numeric operations\n",
        "import seaborn as sb # for visualizations\n",
        "import matplotlib.pyplot as plt # for visualizations\n",
        "from matplotlib.colors import ListedColormap # for visualizations"
      ]
    },
    {
      "cell_type": "code",
      "source": [
        "data = pd.read_csv('Titanic.tsv',sep='\\t')"
      ],
      "metadata": {
        "id": "sdHskiRDty6X"
      },
      "execution_count": null,
      "outputs": []
    },
    {
      "cell_type": "code",
      "source": [
        "data"
      ],
      "metadata": {
        "colab": {
          "base_uri": "https://localhost:8080/",
          "height": 519
        },
        "id": "gEFpTV0euXgS",
        "outputId": "bf0f2625-73e8-4081-c932-f293bda35051"
      },
      "execution_count": null,
      "outputs": [
        {
          "output_type": "execute_result",
          "data": {
            "text/plain": [
              "     PassengerId  Survived  Pclass  \\\n",
              "0              1         0     3.0   \n",
              "1              2         1     1.0   \n",
              "2              3         1     3.0   \n",
              "3              4         1     1.0   \n",
              "4              5         0     3.0   \n",
              "..           ...       ...     ...   \n",
              "889          890         1     1.0   \n",
              "890          891         0     3.0   \n",
              "891         1000         1     1.0   \n",
              "892         1143         1     3.0   \n",
              "893          -12         0     3.0   \n",
              "\n",
              "                                                  Name     Sex Age  SibSp  \\\n",
              "0                              Braund, Mr. Owen Harris    male  22      1   \n",
              "1    Cumings, Mrs. John Bradley (Florence Briggs Th...  female  38      1   \n",
              "2                               Heikkinen, Miss. Laina  female  26      0   \n",
              "3         Futrelle, Mrs. Jacques Heath (Lily May Peel)  female  35      1   \n",
              "4                             Allen, Mr. William Henry    male  35      0   \n",
              "..                                                 ...     ...  ..    ...   \n",
              "889                              Behr, Mr. Karl Howell    male  26      0   \n",
              "890                                Dooley, Mr. Patrick    male  32      0   \n",
              "891                        Mr. Frederick Maxfield Hoyt    male  38      1   \n",
              "892                 Sandstrom, Miss. Marguerite Ru&5$$  female   4      1   \n",
              "893               Vestrom, Miss. Hulda Amanda Adolfina  female  .7      0   \n",
              "\n",
              "    Parch            Ticket     Fare Cabin Embarked     ship  \n",
              "0       0         A/5 21171     7,25   NaN        S  Titanic  \n",
              "1       0          PC 17599  71,2833   C85        C  Titanic  \n",
              "2       0  STON/O2. 3101282    7,925   NaN        S  Titanic  \n",
              "3       0            113803     53,1  C123        S  Titanic  \n",
              "4       0            373450     8,05   NaN        S  Titanic  \n",
              "..    ...               ...      ...   ...      ...      ...  \n",
              "889     0            111369       30  C148        C  Titanic  \n",
              "890     0            370376     7,75   NaN        Q  Titanic  \n",
              "891     0             19943       90   C93        S  Titanic  \n",
              "892     1           PP 9549     16,7    G6        S  Titanic  \n",
              "893     0            350406   7,8542   NaN        S  Titanic  \n",
              "\n",
              "[894 rows x 13 columns]"
            ],
            "text/html": [
              "\n",
              "  <div id=\"df-aaeaab36-b264-41fa-916f-35da86981898\">\n",
              "    <div class=\"colab-df-container\">\n",
              "      <div>\n",
              "<style scoped>\n",
              "    .dataframe tbody tr th:only-of-type {\n",
              "        vertical-align: middle;\n",
              "    }\n",
              "\n",
              "    .dataframe tbody tr th {\n",
              "        vertical-align: top;\n",
              "    }\n",
              "\n",
              "    .dataframe thead th {\n",
              "        text-align: right;\n",
              "    }\n",
              "</style>\n",
              "<table border=\"1\" class=\"dataframe\">\n",
              "  <thead>\n",
              "    <tr style=\"text-align: right;\">\n",
              "      <th></th>\n",
              "      <th>PassengerId</th>\n",
              "      <th>Survived</th>\n",
              "      <th>Pclass</th>\n",
              "      <th>Name</th>\n",
              "      <th>Sex</th>\n",
              "      <th>Age</th>\n",
              "      <th>SibSp</th>\n",
              "      <th>Parch</th>\n",
              "      <th>Ticket</th>\n",
              "      <th>Fare</th>\n",
              "      <th>Cabin</th>\n",
              "      <th>Embarked</th>\n",
              "      <th>ship</th>\n",
              "    </tr>\n",
              "  </thead>\n",
              "  <tbody>\n",
              "    <tr>\n",
              "      <th>0</th>\n",
              "      <td>1</td>\n",
              "      <td>0</td>\n",
              "      <td>3.0</td>\n",
              "      <td>Braund, Mr. Owen Harris</td>\n",
              "      <td>male</td>\n",
              "      <td>22</td>\n",
              "      <td>1</td>\n",
              "      <td>0</td>\n",
              "      <td>A/5 21171</td>\n",
              "      <td>7,25</td>\n",
              "      <td>NaN</td>\n",
              "      <td>S</td>\n",
              "      <td>Titanic</td>\n",
              "    </tr>\n",
              "    <tr>\n",
              "      <th>1</th>\n",
              "      <td>2</td>\n",
              "      <td>1</td>\n",
              "      <td>1.0</td>\n",
              "      <td>Cumings, Mrs. John Bradley (Florence Briggs Th...</td>\n",
              "      <td>female</td>\n",
              "      <td>38</td>\n",
              "      <td>1</td>\n",
              "      <td>0</td>\n",
              "      <td>PC 17599</td>\n",
              "      <td>71,2833</td>\n",
              "      <td>C85</td>\n",
              "      <td>C</td>\n",
              "      <td>Titanic</td>\n",
              "    </tr>\n",
              "    <tr>\n",
              "      <th>2</th>\n",
              "      <td>3</td>\n",
              "      <td>1</td>\n",
              "      <td>3.0</td>\n",
              "      <td>Heikkinen, Miss. Laina</td>\n",
              "      <td>female</td>\n",
              "      <td>26</td>\n",
              "      <td>0</td>\n",
              "      <td>0</td>\n",
              "      <td>STON/O2. 3101282</td>\n",
              "      <td>7,925</td>\n",
              "      <td>NaN</td>\n",
              "      <td>S</td>\n",
              "      <td>Titanic</td>\n",
              "    </tr>\n",
              "    <tr>\n",
              "      <th>3</th>\n",
              "      <td>4</td>\n",
              "      <td>1</td>\n",
              "      <td>1.0</td>\n",
              "      <td>Futrelle, Mrs. Jacques Heath (Lily May Peel)</td>\n",
              "      <td>female</td>\n",
              "      <td>35</td>\n",
              "      <td>1</td>\n",
              "      <td>0</td>\n",
              "      <td>113803</td>\n",
              "      <td>53,1</td>\n",
              "      <td>C123</td>\n",
              "      <td>S</td>\n",
              "      <td>Titanic</td>\n",
              "    </tr>\n",
              "    <tr>\n",
              "      <th>4</th>\n",
              "      <td>5</td>\n",
              "      <td>0</td>\n",
              "      <td>3.0</td>\n",
              "      <td>Allen, Mr. William Henry</td>\n",
              "      <td>male</td>\n",
              "      <td>35</td>\n",
              "      <td>0</td>\n",
              "      <td>0</td>\n",
              "      <td>373450</td>\n",
              "      <td>8,05</td>\n",
              "      <td>NaN</td>\n",
              "      <td>S</td>\n",
              "      <td>Titanic</td>\n",
              "    </tr>\n",
              "    <tr>\n",
              "      <th>...</th>\n",
              "      <td>...</td>\n",
              "      <td>...</td>\n",
              "      <td>...</td>\n",
              "      <td>...</td>\n",
              "      <td>...</td>\n",
              "      <td>...</td>\n",
              "      <td>...</td>\n",
              "      <td>...</td>\n",
              "      <td>...</td>\n",
              "      <td>...</td>\n",
              "      <td>...</td>\n",
              "      <td>...</td>\n",
              "      <td>...</td>\n",
              "    </tr>\n",
              "    <tr>\n",
              "      <th>889</th>\n",
              "      <td>890</td>\n",
              "      <td>1</td>\n",
              "      <td>1.0</td>\n",
              "      <td>Behr, Mr. Karl Howell</td>\n",
              "      <td>male</td>\n",
              "      <td>26</td>\n",
              "      <td>0</td>\n",
              "      <td>0</td>\n",
              "      <td>111369</td>\n",
              "      <td>30</td>\n",
              "      <td>C148</td>\n",
              "      <td>C</td>\n",
              "      <td>Titanic</td>\n",
              "    </tr>\n",
              "    <tr>\n",
              "      <th>890</th>\n",
              "      <td>891</td>\n",
              "      <td>0</td>\n",
              "      <td>3.0</td>\n",
              "      <td>Dooley, Mr. Patrick</td>\n",
              "      <td>male</td>\n",
              "      <td>32</td>\n",
              "      <td>0</td>\n",
              "      <td>0</td>\n",
              "      <td>370376</td>\n",
              "      <td>7,75</td>\n",
              "      <td>NaN</td>\n",
              "      <td>Q</td>\n",
              "      <td>Titanic</td>\n",
              "    </tr>\n",
              "    <tr>\n",
              "      <th>891</th>\n",
              "      <td>1000</td>\n",
              "      <td>1</td>\n",
              "      <td>1.0</td>\n",
              "      <td>Mr. Frederick Maxfield Hoyt</td>\n",
              "      <td>male</td>\n",
              "      <td>38</td>\n",
              "      <td>1</td>\n",
              "      <td>0</td>\n",
              "      <td>19943</td>\n",
              "      <td>90</td>\n",
              "      <td>C93</td>\n",
              "      <td>S</td>\n",
              "      <td>Titanic</td>\n",
              "    </tr>\n",
              "    <tr>\n",
              "      <th>892</th>\n",
              "      <td>1143</td>\n",
              "      <td>1</td>\n",
              "      <td>3.0</td>\n",
              "      <td>Sandstrom, Miss. Marguerite Ru&amp;5$$</td>\n",
              "      <td>female</td>\n",
              "      <td>4</td>\n",
              "      <td>1</td>\n",
              "      <td>1</td>\n",
              "      <td>PP 9549</td>\n",
              "      <td>16,7</td>\n",
              "      <td>G6</td>\n",
              "      <td>S</td>\n",
              "      <td>Titanic</td>\n",
              "    </tr>\n",
              "    <tr>\n",
              "      <th>893</th>\n",
              "      <td>-12</td>\n",
              "      <td>0</td>\n",
              "      <td>3.0</td>\n",
              "      <td>Vestrom, Miss. Hulda Amanda Adolfina</td>\n",
              "      <td>female</td>\n",
              "      <td>.7</td>\n",
              "      <td>0</td>\n",
              "      <td>0</td>\n",
              "      <td>350406</td>\n",
              "      <td>7,8542</td>\n",
              "      <td>NaN</td>\n",
              "      <td>S</td>\n",
              "      <td>Titanic</td>\n",
              "    </tr>\n",
              "  </tbody>\n",
              "</table>\n",
              "<p>894 rows × 13 columns</p>\n",
              "</div>\n",
              "      <button class=\"colab-df-convert\" onclick=\"convertToInteractive('df-aaeaab36-b264-41fa-916f-35da86981898')\"\n",
              "              title=\"Convert this dataframe to an interactive table.\"\n",
              "              style=\"display:none;\">\n",
              "        \n",
              "  <svg xmlns=\"http://www.w3.org/2000/svg\" height=\"24px\"viewBox=\"0 0 24 24\"\n",
              "       width=\"24px\">\n",
              "    <path d=\"M0 0h24v24H0V0z\" fill=\"none\"/>\n",
              "    <path d=\"M18.56 5.44l.94 2.06.94-2.06 2.06-.94-2.06-.94-.94-2.06-.94 2.06-2.06.94zm-11 1L8.5 8.5l.94-2.06 2.06-.94-2.06-.94L8.5 2.5l-.94 2.06-2.06.94zm10 10l.94 2.06.94-2.06 2.06-.94-2.06-.94-.94-2.06-.94 2.06-2.06.94z\"/><path d=\"M17.41 7.96l-1.37-1.37c-.4-.4-.92-.59-1.43-.59-.52 0-1.04.2-1.43.59L10.3 9.45l-7.72 7.72c-.78.78-.78 2.05 0 2.83L4 21.41c.39.39.9.59 1.41.59.51 0 1.02-.2 1.41-.59l7.78-7.78 2.81-2.81c.8-.78.8-2.07 0-2.86zM5.41 20L4 18.59l7.72-7.72 1.47 1.35L5.41 20z\"/>\n",
              "  </svg>\n",
              "      </button>\n",
              "      \n",
              "  <style>\n",
              "    .colab-df-container {\n",
              "      display:flex;\n",
              "      flex-wrap:wrap;\n",
              "      gap: 12px;\n",
              "    }\n",
              "\n",
              "    .colab-df-convert {\n",
              "      background-color: #E8F0FE;\n",
              "      border: none;\n",
              "      border-radius: 50%;\n",
              "      cursor: pointer;\n",
              "      display: none;\n",
              "      fill: #1967D2;\n",
              "      height: 32px;\n",
              "      padding: 0 0 0 0;\n",
              "      width: 32px;\n",
              "    }\n",
              "\n",
              "    .colab-df-convert:hover {\n",
              "      background-color: #E2EBFA;\n",
              "      box-shadow: 0px 1px 2px rgba(60, 64, 67, 0.3), 0px 1px 3px 1px rgba(60, 64, 67, 0.15);\n",
              "      fill: #174EA6;\n",
              "    }\n",
              "\n",
              "    [theme=dark] .colab-df-convert {\n",
              "      background-color: #3B4455;\n",
              "      fill: #D2E3FC;\n",
              "    }\n",
              "\n",
              "    [theme=dark] .colab-df-convert:hover {\n",
              "      background-color: #434B5C;\n",
              "      box-shadow: 0px 1px 3px 1px rgba(0, 0, 0, 0.15);\n",
              "      filter: drop-shadow(0px 1px 2px rgba(0, 0, 0, 0.3));\n",
              "      fill: #FFFFFF;\n",
              "    }\n",
              "  </style>\n",
              "\n",
              "      <script>\n",
              "        const buttonEl =\n",
              "          document.querySelector('#df-aaeaab36-b264-41fa-916f-35da86981898 button.colab-df-convert');\n",
              "        buttonEl.style.display =\n",
              "          google.colab.kernel.accessAllowed ? 'block' : 'none';\n",
              "\n",
              "        async function convertToInteractive(key) {\n",
              "          const element = document.querySelector('#df-aaeaab36-b264-41fa-916f-35da86981898');\n",
              "          const dataTable =\n",
              "            await google.colab.kernel.invokeFunction('convertToInteractive',\n",
              "                                                     [key], {});\n",
              "          if (!dataTable) return;\n",
              "\n",
              "          const docLinkHtml = 'Like what you see? Visit the ' +\n",
              "            '<a target=\"_blank\" href=https://colab.research.google.com/notebooks/data_table.ipynb>data table notebook</a>'\n",
              "            + ' to learn more about interactive tables.';\n",
              "          element.innerHTML = '';\n",
              "          dataTable['output_type'] = 'display_data';\n",
              "          await google.colab.output.renderOutput(dataTable, element);\n",
              "          const docLink = document.createElement('div');\n",
              "          docLink.innerHTML = docLinkHtml;\n",
              "          element.appendChild(docLink);\n",
              "        }\n",
              "      </script>\n",
              "    </div>\n",
              "  </div>\n",
              "  "
            ]
          },
          "metadata": {},
          "execution_count": 3
        }
      ]
    },
    {
      "cell_type": "code",
      "source": [
        "data.shape"
      ],
      "metadata": {
        "colab": {
          "base_uri": "https://localhost:8080/"
        },
        "id": "skZK4igguwfv",
        "outputId": "b86c4d59-55af-4bc5-9ce6-349e1d4976b9"
      },
      "execution_count": null,
      "outputs": [
        {
          "output_type": "execute_result",
          "data": {
            "text/plain": [
              "(894, 13)"
            ]
          },
          "metadata": {},
          "execution_count": 4
        }
      ]
    },
    {
      "cell_type": "code",
      "source": [
        "data.info() #checking data types"
      ],
      "metadata": {
        "colab": {
          "base_uri": "https://localhost:8080/"
        },
        "id": "KfNBqpj1vTch",
        "outputId": "84f0224a-c8c3-46bb-a240-f7af318a6263"
      },
      "execution_count": null,
      "outputs": [
        {
          "output_type": "stream",
          "name": "stdout",
          "text": [
            "<class 'pandas.core.frame.DataFrame'>\n",
            "RangeIndex: 894 entries, 0 to 893\n",
            "Data columns (total 13 columns):\n",
            " #   Column       Non-Null Count  Dtype  \n",
            "---  ------       --------------  -----  \n",
            " 0   PassengerId  894 non-null    int64  \n",
            " 1   Survived     894 non-null    int64  \n",
            " 2   Pclass       894 non-null    float64\n",
            " 3   Name         894 non-null    object \n",
            " 4   Sex          894 non-null    object \n",
            " 5   Age          721 non-null    object \n",
            " 6   SibSp        894 non-null    int64  \n",
            " 7   Parch        894 non-null    object \n",
            " 8   Ticket       893 non-null    object \n",
            " 9   Fare         893 non-null    object \n",
            " 10  Cabin        208 non-null    object \n",
            " 11  Embarked     892 non-null    object \n",
            " 12  ship         894 non-null    object \n",
            "dtypes: float64(1), int64(3), object(9)\n",
            "memory usage: 90.9+ KB\n"
          ]
        }
      ]
    },
    {
      "cell_type": "markdown",
      "source": [
        "Handling missing (NaNs and Blank) values"
      ],
      "metadata": {
        "id": "24LqxUIBu3PS"
      }
    },
    {
      "cell_type": "code",
      "source": [
        "data.isna().sum()"
      ],
      "metadata": {
        "colab": {
          "base_uri": "https://localhost:8080/"
        },
        "id": "FdKNIlwru7lj",
        "outputId": "04d67a86-9460-4c46-e8a0-6045af2702ac"
      },
      "execution_count": null,
      "outputs": [
        {
          "output_type": "execute_result",
          "data": {
            "text/plain": [
              "PassengerId      0\n",
              "Survived         0\n",
              "Pclass           0\n",
              "Name             0\n",
              "Sex              0\n",
              "Age            173\n",
              "SibSp            0\n",
              "Parch            0\n",
              "Ticket           1\n",
              "Fare             1\n",
              "Cabin          686\n",
              "Embarked         2\n",
              "ship             0\n",
              "dtype: int64"
            ]
          },
          "metadata": {},
          "execution_count": 6
        }
      ]
    },
    {
      "cell_type": "code",
      "source": [
        "data = data.dropna() # delete rows with missing data"
      ],
      "metadata": {
        "id": "8ybJ9klAwEQL"
      },
      "execution_count": null,
      "outputs": []
    },
    {
      "cell_type": "code",
      "source": [
        "data.isna().sum()"
      ],
      "metadata": {
        "colab": {
          "base_uri": "https://localhost:8080/"
        },
        "id": "TANyz3SqwUH2",
        "outputId": "6479ceb8-0541-4eb8-fcfa-6a3ad8b09c63"
      },
      "execution_count": null,
      "outputs": [
        {
          "output_type": "execute_result",
          "data": {
            "text/plain": [
              "PassengerId    0\n",
              "Survived       0\n",
              "Pclass         0\n",
              "Name           0\n",
              "Sex            0\n",
              "Age            0\n",
              "SibSp          0\n",
              "Parch          0\n",
              "Ticket         0\n",
              "Fare           0\n",
              "Cabin          0\n",
              "Embarked       0\n",
              "ship           0\n",
              "dtype: int64"
            ]
          },
          "metadata": {},
          "execution_count": 8
        }
      ]
    },
    {
      "cell_type": "code",
      "source": [
        "data.shape"
      ],
      "metadata": {
        "colab": {
          "base_uri": "https://localhost:8080/"
        },
        "id": "HinE6gwdwb6_",
        "outputId": "509164e8-6028-4515-f08f-37b73c4362a2"
      },
      "execution_count": null,
      "outputs": [
        {
          "output_type": "execute_result",
          "data": {
            "text/plain": [
              "(188, 13)"
            ]
          },
          "metadata": {},
          "execution_count": 9
        }
      ]
    },
    {
      "cell_type": "markdown",
      "source": [
        "  Handling duplicates"
      ],
      "metadata": {
        "id": "Zan1nosq1r5T"
      }
    },
    {
      "cell_type": "code",
      "source": [
        "data.drop_duplicates(keep=False, inplace=True)"
      ],
      "metadata": {
        "id": "ihWLXtuL1wjA",
        "colab": {
          "base_uri": "https://localhost:8080/"
        },
        "outputId": "0420f5ad-5baf-4617-a05b-3c580934da6e"
      },
      "execution_count": null,
      "outputs": [
        {
          "output_type": "stream",
          "name": "stderr",
          "text": [
            "<ipython-input-10-ec62a0ea1113>:1: SettingWithCopyWarning: \n",
            "A value is trying to be set on a copy of a slice from a DataFrame\n",
            "\n",
            "See the caveats in the documentation: https://pandas.pydata.org/pandas-docs/stable/user_guide/indexing.html#returning-a-view-versus-a-copy\n",
            "  data.drop_duplicates(keep=False, inplace=True)\n"
          ]
        }
      ]
    },
    {
      "cell_type": "code",
      "source": [
        "data.shape"
      ],
      "metadata": {
        "colab": {
          "base_uri": "https://localhost:8080/"
        },
        "id": "NaIdCQZs3TnO",
        "outputId": "bdbd0588-ac34-4ac3-9e1c-38a1cebefacd"
      },
      "execution_count": null,
      "outputs": [
        {
          "output_type": "execute_result",
          "data": {
            "text/plain": [
              "(183, 13)"
            ]
          },
          "metadata": {},
          "execution_count": 11
        }
      ]
    },
    {
      "cell_type": "markdown",
      "source": [
        "Checking Outliers"
      ],
      "metadata": {
        "id": "B4fcjPco3bbL"
      }
    },
    {
      "cell_type": "code",
      "source": [
        "data.columns"
      ],
      "metadata": {
        "colab": {
          "base_uri": "https://localhost:8080/"
        },
        "id": "txQjvfH83fMl",
        "outputId": "f6f606c1-75ef-425e-d13f-d8471f988ae2"
      },
      "execution_count": null,
      "outputs": [
        {
          "output_type": "execute_result",
          "data": {
            "text/plain": [
              "Index(['PassengerId', 'Survived', 'Pclass', 'Name', 'Sex', 'Age', 'SibSp',\n",
              "       'Parch', 'Ticket', 'Fare', 'Cabin', 'Embarked', 'ship'],\n",
              "      dtype='object')"
            ]
          },
          "metadata": {},
          "execution_count": 12
        }
      ]
    },
    {
      "cell_type": "code",
      "source": [
        "# Create a dictionary of integer/float columns.\n",
        "col_dict = {'Survived':1,'Pclass':2,'SibSp':3}\n",
        "\n",
        "# Detect outliers in each variable using box plots.\n",
        "plt.figure(figsize=(20,15))\n",
        "\n",
        "for variable,i in col_dict.items():\n",
        "                     plt.subplot(5,4,i)\n",
        "                     plt.boxplot(data[variable],whis=1.5,vert=False)\n",
        "                     plt.title(variable)\n",
        "\n",
        "plt.show()"
      ],
      "metadata": {
        "colab": {
          "base_uri": "https://localhost:8080/",
          "height": 266
        },
        "id": "JQFdHatm4mNU",
        "outputId": "dd99ffcb-aeb9-42bd-81c8-2917809776ac"
      },
      "execution_count": null,
      "outputs": [
        {
          "output_type": "display_data",
          "data": {
            "text/plain": [
              "<Figure size 2000x1500 with 3 Axes>"
            ],
            "image/png": "[encoded data removed]"
          },
          "metadata": {}
        }
      ]
    },
    {
      "cell_type": "markdown",
      "source": [
        "Handling wrong/improper values\n"
      ],
      "metadata": {
        "id": "rYtoLPDw5WbD"
      }
    },
    {
      "cell_type": "code",
      "source": [
        "data['Age'].value_counts()"
      ],
      "metadata": {
        "id": "K5uin64M5asI",
        "colab": {
          "base_uri": "https://localhost:8080/"
        },
        "outputId": "796851d9-6669-4f23-a1bd-968bad912e07"
      },
      "execution_count": null,
      "outputs": [
        {
          "output_type": "execute_result",
          "data": {
            "text/plain": [
              "36      11\n",
              "24       9\n",
              "19       6\n",
              "35       6\n",
              "38       5\n",
              "        ..\n",
              "36,5     1\n",
              "32,5     1\n",
              "71       1\n",
              ".9       1\n",
              "26       1\n",
              "Name: Age, Length: 64, dtype: int64"
            ]
          },
          "metadata": {},
          "execution_count": 14
        }
      ]
    },
    {
      "cell_type": "code",
      "source": [
        "# Convert incorrectly formatted age values to float\n",
        "data['Age'] = data['Age'].apply(lambda x: float(x.replace('.','')) if isinstance (x, str) and'.'in x else x)"
      ],
      "metadata": {
        "id": "f1m6R56q87LJ",
        "colab": {
          "base_uri": "https://localhost:8080/"
        },
        "outputId": "e51c8a1a-cdc1-42ac-bc02-63b432b9b875"
      },
      "execution_count": null,
      "outputs": [
        {
          "output_type": "stream",
          "name": "stderr",
          "text": [
            "<ipython-input-15-ef7ad430b98a>:2: SettingWithCopyWarning: \n",
            "A value is trying to be set on a copy of a slice from a DataFrame.\n",
            "Try using .loc[row_indexer,col_indexer] = value instead\n",
            "\n",
            "See the caveats in the documentation: https://pandas.pydata.org/pandas-docs/stable/user_guide/indexing.html#returning-a-view-versus-a-copy\n",
            "  data['Age'] = data['Age'].apply(lambda x: float(x.replace('.','')) if isinstance (x, str) and'.'in x else x)\n"
          ]
        }
      ]
    },
    {
      "cell_type": "code",
      "source": [
        "data['Age'].value_counts()"
      ],
      "metadata": {
        "id": "VP4Ld-8s961-",
        "colab": {
          "base_uri": "https://localhost:8080/"
        },
        "outputId": "9ba9b838-0719-49d9-e952-27a4a943bb5f"
      },
      "execution_count": null,
      "outputs": [
        {
          "output_type": "execute_result",
          "data": {
            "text/plain": [
              "36      11\n",
              "24       9\n",
              "19       6\n",
              "35       6\n",
              "38       5\n",
              "        ..\n",
              "36,5     1\n",
              "32,5     1\n",
              "71       1\n",
              "9.0      1\n",
              "26       1\n",
              "Name: Age, Length: 64, dtype: int64"
            ]
          },
          "metadata": {},
          "execution_count": 16
        }
      ]
    },
    {
      "cell_type": "code",
      "source": [
        "print(data.loc[data['Sex'].isin(['male', 'female']), 'Sex'])"
      ],
      "metadata": {
        "colab": {
          "base_uri": "https://localhost:8080/"
        },
        "id": "uMAk_AljGV69",
        "outputId": "026fb1f3-25be-45fb-bb20-cc07b0529175"
      },
      "execution_count": null,
      "outputs": [
        {
          "output_type": "stream",
          "name": "stdout",
          "text": [
            "1      female\n",
            "3      female\n",
            "6        male\n",
            "11     female\n",
            "27       male\n",
            "        ...  \n",
            "872      male\n",
            "879    female\n",
            "889      male\n",
            "891      male\n",
            "892    female\n",
            "Name: Sex, Length: 179, dtype: object\n"
          ]
        }
      ]
    },
    {
      "cell_type": "code",
      "source": [
        "data['Sex'].value_counts()"
      ],
      "metadata": {
        "id": "n9Hw-cZ6Jwbb",
        "outputId": "ed62cbc2-bfec-469a-a44b-0068a2b6a6c2",
        "colab": {
          "base_uri": "https://localhost:8080/"
        }
      },
      "execution_count": null,
      "outputs": [
        {
          "output_type": "execute_result",
          "data": {
            "text/plain": [
              "male       94\n",
              "female     85\n",
              "malef       1\n",
              "femmale     1\n",
              "feemale     1\n",
              "F           1\n",
              "Name: Sex, dtype: int64"
            ]
          },
          "metadata": {},
          "execution_count": 18
        }
      ]
    },
    {
      "cell_type": "code",
      "source": [
        "data['Sex'] = data['Sex'].replace('malef', 'male')\n",
        "data['Sex'] = data['Sex'].replace('femmale', 'female')\n",
        "data['Sex'] = data['Sex'].replace('feemale', 'female')\n",
        "data['Sex'] = data['Sex'].replace('F', 'female')"
      ],
      "metadata": {
        "id": "6uHbeBCiK2ap",
        "outputId": "534da955-4d61-40ac-ba56-af0138578c56",
        "colab": {
          "base_uri": "https://localhost:8080/"
        }
      },
      "execution_count": null,
      "outputs": [
        {
          "output_type": "stream",
          "name": "stderr",
          "text": [
            "<ipython-input-19-d720e8088066>:1: SettingWithCopyWarning: \n",
            "A value is trying to be set on a copy of a slice from a DataFrame.\n",
            "Try using .loc[row_indexer,col_indexer] = value instead\n",
            "\n",
            "See the caveats in the documentation: https://pandas.pydata.org/pandas-docs/stable/user_guide/indexing.html#returning-a-view-versus-a-copy\n",
            "  data['Sex'] = data['Sex'].replace('malef', 'male')\n",
            "<ipython-input-19-d720e8088066>:2: SettingWithCopyWarning: \n",
            "A value is trying to be set on a copy of a slice from a DataFrame.\n",
            "Try using .loc[row_indexer,col_indexer] = value instead\n",
            "\n",
            "See the caveats in the documentation: https://pandas.pydata.org/pandas-docs/stable/user_guide/indexing.html#returning-a-view-versus-a-copy\n",
            "  data['Sex'] = data['Sex'].replace('femmale', 'female')\n",
            "<ipython-input-19-d720e8088066>:3: SettingWithCopyWarning: \n",
            "A value is trying to be set on a copy of a slice from a DataFrame.\n",
            "Try using .loc[row_indexer,col_indexer] = value instead\n",
            "\n",
            "See the caveats in the documentation: https://pandas.pydata.org/pandas-docs/stable/user_guide/indexing.html#returning-a-view-versus-a-copy\n",
            "  data['Sex'] = data['Sex'].replace('feemale', 'female')\n",
            "<ipython-input-19-d720e8088066>:4: SettingWithCopyWarning: \n",
            "A value is trying to be set on a copy of a slice from a DataFrame.\n",
            "Try using .loc[row_indexer,col_indexer] = value instead\n",
            "\n",
            "See the caveats in the documentation: https://pandas.pydata.org/pandas-docs/stable/user_guide/indexing.html#returning-a-view-versus-a-copy\n",
            "  data['Sex'] = data['Sex'].replace('F', 'female')\n"
          ]
        }
      ]
    },
    {
      "cell_type": "code",
      "source": [
        "data['Sex'].value_counts()"
      ],
      "metadata": {
        "id": "bNNcnZ0GLc0h",
        "outputId": "891ff27e-8ab0-4ec4-c949-02ba8f50b8e4",
        "colab": {
          "base_uri": "https://localhost:8080/"
        }
      },
      "execution_count": null,
      "outputs": [
        {
          "output_type": "execute_result",
          "data": {
            "text/plain": [
              "male      95\n",
              "female    88\n",
              "Name: Sex, dtype: int64"
            ]
          },
          "metadata": {},
          "execution_count": 20
        }
      ]
    },
    {
      "cell_type": "code",
      "source": [
        "data.to_csv('titanic_cleaned.csv', index=False)"
      ],
      "metadata": {
        "id": "9l5YLFq6azO0"
      },
      "execution_count": null,
      "outputs": []
    }
  ]
}